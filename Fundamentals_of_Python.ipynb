{
  "nbformat": 4,
  "nbformat_minor": 0,
  "metadata": {
    "colab": {
      "name": "Fundamentals of Python.ipynb",
      "provenance": [],
      "authorship_tag": "ABX9TyO2UVrGqW3tNlUp7Z2xMMof",
      "include_colab_link": true
    },
    "kernelspec": {
      "name": "python3",
      "display_name": "Python 3"
    },
    "language_info": {
      "name": "python"
    }
  },
  "cells": [
    {
      "cell_type": "markdown",
      "metadata": {
        "id": "view-in-github",
        "colab_type": "text"
      },
      "source": [
        "<a href=\"https://colab.research.google.com/github/KenseiXD/OOP-58002/blob/main/Fundamentals_of_Python.ipynb\" target=\"_parent\"><img src=\"https://colab.research.google.com/assets/colab-badge.svg\" alt=\"Open In Colab\"/></a>"
      ]
    },
    {
      "cell_type": "markdown",
      "source": [
        "#Fundamentals of Python"
      ],
      "metadata": {
        "id": "ft4oSMGiJVU4"
      }
    },
    {
      "cell_type": "markdown",
      "source": [
        "Python Indentation"
      ],
      "metadata": {
        "id": "mkZycpkgJotI"
      }
    },
    {
      "cell_type": "code",
      "source": [
        "if 5>2:\n",
        "  print(\"Yes\")"
      ],
      "metadata": {
        "colab": {
          "base_uri": "https://localhost:8080/"
        },
        "id": "5KQgsi8eJcsY",
        "outputId": "3305597a-7cfe-438e-bc77-cc1989e90f96"
      },
      "execution_count": 1,
      "outputs": [
        {
          "output_type": "stream",
          "name": "stdout",
          "text": [
            "Yes\n"
          ]
        }
      ]
    },
    {
      "cell_type": "markdown",
      "source": [
        "Python Comments"
      ],
      "metadata": {
        "id": "RK7m2DhYKKJx"
      }
    },
    {
      "cell_type": "code",
      "source": [
        "#This is a comment\n",
        "print(\"Hello, World\")"
      ],
      "metadata": {
        "colab": {
          "base_uri": "https://localhost:8080/"
        },
        "id": "X1BA97k4KN9_",
        "outputId": "d1e12588-92c5-4a5b-e2e8-854ac7ce4cf0"
      },
      "execution_count": 2,
      "outputs": [
        {
          "output_type": "stream",
          "name": "stdout",
          "text": [
            "Hello, World\n"
          ]
        }
      ]
    },
    {
      "cell_type": "markdown",
      "source": [
        "Python Variable"
      ],
      "metadata": {
        "id": "PVTNn6LPLO14"
      }
    },
    {
      "cell_type": "code",
      "source": [
        "x = \"Sally\"\n",
        "\n",
        "a = 0\n",
        "a,b,c=0,1,2\n",
        "\n",
        "print(x)\n",
        "print(a)\n",
        "print(b)\n",
        "print(c)\n",
        "print(a,b,c)"
      ],
      "metadata": {
        "colab": {
          "base_uri": "https://localhost:8080/"
        },
        "id": "UsR8W4_cLR9A",
        "outputId": "23ff5a83-bf34-493c-b478-425adba75b16"
      },
      "execution_count": 13,
      "outputs": [
        {
          "output_type": "stream",
          "name": "stdout",
          "text": [
            "Sally\n",
            "0\n",
            "1\n",
            "2\n",
            "0 1 2\n"
          ]
        }
      ]
    },
    {
      "cell_type": "markdown",
      "source": [
        "Casting"
      ],
      "metadata": {
        "id": "9i6qccb7Lv_n"
      }
    },
    {
      "cell_type": "code",
      "source": [
        "d = 4\n",
        "d = int(4)\n",
        "print(d)"
      ],
      "metadata": {
        "colab": {
          "base_uri": "https://localhost:8080/"
        },
        "id": "Kg5gvwzcLxZY",
        "outputId": "17b69b74-a7c0-4ed6-c88c-aa941db95a43"
      },
      "execution_count": 4,
      "outputs": [
        {
          "output_type": "stream",
          "name": "stdout",
          "text": [
            "4\n"
          ]
        }
      ]
    },
    {
      "cell_type": "markdown",
      "source": [
        "Type () Function"
      ],
      "metadata": {
        "id": "VP4K73VbL8lO"
      }
    },
    {
      "cell_type": "code",
      "source": [
        "d = 4\n",
        "d = int(4)\n",
        "print(type(d))\n"
      ],
      "metadata": {
        "colab": {
          "base_uri": "https://localhost:8080/"
        },
        "id": "d8_NsLf6MCDv",
        "outputId": "bb106712-8124-4806-c83c-9eb441e71ef1"
      },
      "execution_count": 5,
      "outputs": [
        {
          "output_type": "stream",
          "name": "stdout",
          "text": [
            "<class 'int'>\n"
          ]
        }
      ]
    },
    {
      "cell_type": "markdown",
      "source": [
        "Double quotes and single quotes"
      ],
      "metadata": {
        "id": "8QMZmau4Mfcl"
      }
    },
    {
      "cell_type": "code",
      "source": [
        "#y = \"Ana\"\n",
        "#print(y)\n",
        "\n",
        "y = 'Ana'\n",
        "Y = \"Robert\"\n",
        "print(y)\n",
        "print(Y)"
      ],
      "metadata": {
        "colab": {
          "base_uri": "https://localhost:8080/"
        },
        "id": "ADL8e0gwMj3u",
        "outputId": "93fbe03a-c17e-4683-a57e-6c42c1a03845"
      },
      "execution_count": 8,
      "outputs": [
        {
          "output_type": "stream",
          "name": "stdout",
          "text": [
            "Ana\n",
            "Robert\n"
          ]
        }
      ]
    },
    {
      "cell_type": "markdown",
      "source": [
        "Multiple Variables with one value"
      ],
      "metadata": {
        "id": "vfFGe0iNNLS3"
      }
    },
    {
      "cell_type": "code",
      "source": [
        "#x = \"Tony\"\n",
        "k=l=m=\"four\"\n",
        "print(k)\n",
        "print(l)\n",
        "print(m)\n",
        "print(k,l,m)"
      ],
      "metadata": {
        "colab": {
          "base_uri": "https://localhost:8080/"
        },
        "id": "0ZdVi_27NOgl",
        "outputId": "c9744e0a-4583-4703-8489-5b5d0199fd70"
      },
      "execution_count": 16,
      "outputs": [
        {
          "output_type": "stream",
          "name": "stdout",
          "text": [
            "four\n",
            "four\n",
            "four\n",
            "four four four\n"
          ]
        }
      ]
    },
    {
      "cell_type": "markdown",
      "source": [
        "Output Variable"
      ],
      "metadata": {
        "id": "2qj7GAngORRI"
      }
    },
    {
      "cell_type": "code",
      "source": [
        "print(\"Python programming is enjoying\")\n",
        "\n",
        "h = \"enjoying\"\n",
        "p = \"Python programming is\"\n",
        "print(\"Python programming is\" + h)\n",
        "print(p+ \"\" + \"\" +h)"
      ],
      "metadata": {
        "colab": {
          "base_uri": "https://localhost:8080/"
        },
        "id": "2rKYOTFYOT_F",
        "outputId": "026d1f1e-b4c4-42ca-fc5f-bbcbc846ca10"
      },
      "execution_count": 24,
      "outputs": [
        {
          "output_type": "stream",
          "name": "stdout",
          "text": [
            "Python programming is enjoying\n",
            "Python programming isenjoying\n",
            "Python programming isenjoying\n"
          ]
        }
      ]
    },
    {
      "cell_type": "markdown",
      "source": [
        "Arithmetic Operations"
      ],
      "metadata": {
        "id": "xM49Pq4WPHHw"
      }
    },
    {
      "cell_type": "code",
      "source": [
        "print(c+d) #  c = 2, d = 4\n",
        "print(d-c)\n",
        "print(d*c)\n",
        "print(int(d/c))\n",
        "print(d%c)\n",
        "print(3//2) # 1.50\n",
        "print(d**c)"
      ],
      "metadata": {
        "colab": {
          "base_uri": "https://localhost:8080/"
        },
        "id": "5p9H-4C2P4Ld",
        "outputId": "1fff87d6-0aae-4a4f-900b-7da03e743dc5"
      },
      "execution_count": 29,
      "outputs": [
        {
          "output_type": "stream",
          "name": "stdout",
          "text": [
            "6\n",
            "2\n",
            "8\n",
            "2\n",
            "0\n",
            "1\n",
            "16\n"
          ]
        }
      ]
    },
    {
      "cell_type": "markdown",
      "source": [
        "Assignment Operators"
      ],
      "metadata": {
        "id": "pNlfvbc1QyUV"
      }
    },
    {
      "cell_type": "code",
      "source": [
        "q=10\n",
        "q+=5 #same as q=q+5\n",
        "\n",
        "print(q) #sane as q = q+5, q 10+5=15"
      ],
      "metadata": {
        "colab": {
          "base_uri": "https://localhost:8080/"
        },
        "id": "S3Ha9L22RAG0",
        "outputId": "68d71749-daa5-45d7-fcad-a95ad143fef6"
      },
      "execution_count": 31,
      "outputs": [
        {
          "output_type": "stream",
          "name": "stdout",
          "text": [
            "15\n"
          ]
        }
      ]
    },
    {
      "cell_type": "markdown",
      "source": [
        "Boolean Logic"
      ],
      "metadata": {
        "id": "Ptq0TciMRzSl"
      }
    },
    {
      "cell_type": "code",
      "source": [
        "s = 10\n",
        "print(s^2)\n",
        "print(s|2)"
      ],
      "metadata": {
        "colab": {
          "base_uri": "https://localhost:8080/"
        },
        "id": "B27FaCXuR1m9",
        "outputId": "3c254d74-1499-40e9-d74b-fdba2a55c692"
      },
      "execution_count": 33,
      "outputs": [
        {
          "output_type": "stream",
          "name": "stdout",
          "text": [
            "8\n",
            "10\n"
          ]
        }
      ]
    },
    {
      "cell_type": "markdown",
      "source": [
        "Comparison Operators"
      ],
      "metadata": {
        "id": "y4RgJJdQS_Dm"
      }
    },
    {
      "cell_type": "code",
      "source": [
        "print(s>q) \n",
        "print(s==s)\n",
        "print(q==q)"
      ],
      "metadata": {
        "colab": {
          "base_uri": "https://localhost:8080/"
        },
        "id": "pH2KtFEWTB60",
        "outputId": "e8337daa-96d8-47c2-fd35-a3b9fd746e6d"
      },
      "execution_count": 35,
      "outputs": [
        {
          "output_type": "stream",
          "name": "stdout",
          "text": [
            "False\n",
            "True\n",
            "True\n"
          ]
        }
      ]
    },
    {
      "cell_type": "markdown",
      "source": [
        "Logical Operators"
      ],
      "metadata": {
        "id": "6W96qiWbTcns"
      }
    },
    {
      "cell_type": "code",
      "source": [
        "s>q and s==s #False\n",
        "s>q or s==s #True\n",
        "\n",
        "print(s>q and s==s)\n",
        "print(s>q or s==s)"
      ],
      "metadata": {
        "colab": {
          "base_uri": "https://localhost:8080/"
        },
        "id": "A4xA_EpETkQ8",
        "outputId": "9e3711d3-44a1-494c-d50a-6d5e69c4641e"
      },
      "execution_count": 38,
      "outputs": [
        {
          "output_type": "stream",
          "name": "stdout",
          "text": [
            "False\n",
            "True\n"
          ]
        }
      ]
    },
    {
      "cell_type": "markdown",
      "source": [
        "Identity Operators"
      ],
      "metadata": {
        "id": "H8NMwUZ0US3k"
      }
    },
    {
      "cell_type": "code",
      "source": [
        "s is q \n",
        "print(s is not q)"
      ],
      "metadata": {
        "colab": {
          "base_uri": "https://localhost:8080/"
        },
        "id": "E0HYn_9qUYIk",
        "outputId": "52f6c0a8-9a77-4d5c-8c3a-e15eb75a8447"
      },
      "execution_count": 40,
      "outputs": [
        {
          "output_type": "stream",
          "name": "stdout",
          "text": [
            "True\n"
          ]
        }
      ]
    },
    {
      "cell_type": "markdown",
      "source": [
        "Bitwise Operators Shift right"
      ],
      "metadata": {
        "id": "FoWjzXtEUhzT"
      }
    },
    {
      "cell_type": "code",
      "source": [
        "u = 2 #0001\n",
        "print(u<<1)\n",
        "\n",
        "g = 10\n",
        "print(10<<1)"
      ],
      "metadata": {
        "colab": {
          "base_uri": "https://localhost:8080/"
        },
        "id": "SJaS_HuuU1R-",
        "outputId": "e4733ebe-0e3f-447f-ef8d-4174bfd1ec9a"
      },
      "execution_count": 45,
      "outputs": [
        {
          "output_type": "stream",
          "name": "stdout",
          "text": [
            "4\n",
            "20\n"
          ]
        }
      ]
    }
  ]
}