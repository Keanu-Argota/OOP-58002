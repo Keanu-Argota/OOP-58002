{
  "nbformat": 4,
  "nbformat_minor": 0,
  "metadata": {
    "colab": {
      "name": "Midterm Exam.ipynb",
      "provenance": [],
      "authorship_tag": "ABX9TyPp7CnoB8YY0AWKXtF7l53T",
      "include_colab_link": true
    },
    "kernelspec": {
      "name": "python3",
      "display_name": "Python 3"
    },
    "language_info": {
      "name": "python"
    }
  },
  "cells": [
    {
      "cell_type": "markdown",
      "metadata": {
        "id": "view-in-github",
        "colab_type": "text"
      },
      "source": [
        "<a href=\"https://colab.research.google.com/github/KenseiXD/OOP-58002/blob/main/Midterm_Exam.ipynb\" target=\"_parent\"><img src=\"https://colab.research.google.com/assets/colab-badge.svg\" alt=\"Open In Colab\"/></a>"
      ]
    },
    {
      "cell_type": "markdown",
      "source": [
        "Modify the program below by adding two conversion methods - Fahrenheit to Celsius and Kelvin to Celsius"
      ],
      "metadata": {
        "id": "ewUdra9NX7UE"
      }
    },
    {
      "cell_type": "code",
      "source": [
        "def main():\n",
        "    class TemperatureConversion:\n",
        "\n",
        "        def __init__(self, temp=1):\n",
        "            self._temp = temp\n",
        "\n",
        "    class CelsiusToFahrenheit(TemperatureConversion):\n",
        "\n",
        "        def conversion(self):\n",
        "\n",
        "            return (self._temp * 9) / 5 + 32\n",
        "\n",
        "    class CelsiusToKelvin(TemperatureConversion):\n",
        "\n",
        "        def conversion(self):\n",
        "\n",
        "            return self._temp + 273.15\n",
        "\n",
        "    class KelvinToCelsius(TemperatureConversion):\n",
        "\n",
        "        def conversion(self):\n",
        "\n",
        "            return self._temp - 273.15\n",
        "\n",
        "    class FahrenheitToCelsius(TemperatureConversion):\n",
        "\n",
        "        def conversion(self):\n",
        "          \n",
        "            return (self._temp * 32) - 5 / 9\n",
        "\n",
        "    tempInCelsius = float(input(\"Enter the temperature in Celsius: \"))\n",
        "    tempInKelvin = float(input(\"Enter the temperature in Kelvin: \"))\n",
        "    tempInFahrenheit = float(input(\"Enter the temperature in Fahrenheit: \"))\n",
        "\n",
        "    convertCelsius = CelsiusToKelvin(tempInCelsius)\n",
        "    convertKelvin = KelvinToCelsius(tempInKelvin)\n",
        "    convertFahrenheit= FahrenheitToCelsius(tempInKelvin)\n",
        "\n",
        "    print(str(convertCelsius.conversion()) + \" Celsius to Kelvin\")\n",
        "    print(str(convertKelvin.conversion()) + \" Kelvin to Celsius\")\n",
        "\n",
        "    convertCelsius = CelsiusToFahrenheit(tempInCelsius)\n",
        "\n",
        "    print(str(convertCelsius.conversion()) + \" Celsius to Fahrenheit\")\n",
        "    print(str(convertFahrenheit.conversion()) + \" Fahrenheit to Celsius\")\n",
        "\n",
        "\n",
        "main()"
      ],
      "metadata": {
        "colab": {
          "base_uri": "https://localhost:8080/"
        },
        "id": "5GdRhQUPX9ID",
        "outputId": "83a47cc7-6e65-47a7-d3f4-eafebaeaecf5"
      },
      "execution_count": 4,
      "outputs": [
        {
          "output_type": "stream",
          "name": "stdout",
          "text": [
            "Enter the temperature in Celsius: 36\n",
            "Enter the temperature in Kelvin: 34\n",
            "Enter the temperature in Fahrenheit: 37\n",
            "309.15 Celsius to Kelvin\n",
            "-239.14999999999998 Kelvin to Celsius\n",
            "96.8 Celsius to Fahrenheit\n",
            "1087.4444444444443 Fahrenheit to Celsius\n"
          ]
        }
      ]
    }
  ]
}