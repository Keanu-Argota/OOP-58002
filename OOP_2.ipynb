{
  "nbformat": 4,
  "nbformat_minor": 0,
  "metadata": {
    "colab": {
      "name": "OOP-2.ipynb",
      "provenance": [],
      "authorship_tag": "ABX9TyNumHiU9yBWPXxngFrS9Iav",
      "include_colab_link": true
    },
    "kernelspec": {
      "name": "python3",
      "display_name": "Python 3"
    },
    "language_info": {
      "name": "python"
    }
  },
  "cells": [
    {
      "cell_type": "markdown",
      "metadata": {
        "id": "view-in-github",
        "colab_type": "text"
      },
      "source": [
        "<a href=\"https://colab.research.google.com/github/KenseiXD/OOP-58002/blob/main/OOP_2.ipynb\" target=\"_parent\"><img src=\"https://colab.research.google.com/assets/colab-badge.svg\" alt=\"Open In Colab\"/></a>"
      ]
    },
    {
      "cell_type": "markdown",
      "source": [
        "Classes With Multiple Objects"
      ],
      "metadata": {
        "id": "VjEeJjLoUrGZ"
      }
    },
    {
      "cell_type": "code",
      "source": [
        "class Birds:\n",
        "  def __init__(self, bird_name):\n",
        "    self.bird_name = bird_name\n",
        "\n",
        "  def flying_birds(self):\n",
        "    print(f\"{self.bird_name} flies above cloudes\")\n",
        "\n",
        "  def non_flying_birds(self):\n",
        "    print(f\"{self.bird_name} is the national bird of the Philippines\")\n",
        "\n",
        "vulture = Birds(\"Griffon Vulture\")\n",
        "crane = Birds(\"Common Crane\")\n",
        "emu = Birds(\"Emu\")\n",
        "\n",
        "vulture.flying_birds()\n",
        "crane.flying_birds()\n",
        "emu.non_flying_birds()"
      ],
      "metadata": {
        "colab": {
          "base_uri": "https://localhost:8080/"
        },
        "id": "pXrodMoQUwdT",
        "outputId": "986a3aa8-e7e8-4b44-b83c-5ae4d3802104"
      },
      "execution_count": 1,
      "outputs": [
        {
          "output_type": "stream",
          "name": "stdout",
          "text": [
            "Griffon Vulture flies above cloudes\n",
            "Common Crane flies above cloudes\n",
            "Emu is the national bird of the Philippines\n"
          ]
        }
      ]
    },
    {
      "cell_type": "markdown",
      "source": [
        "Encapsulation (mangling with double underscores)"
      ],
      "metadata": {
        "id": "zGMUZDNfcd6p"
      }
    },
    {
      "cell_type": "code",
      "source": [
        "class foo:\n",
        "  def __init__(self, a, b):\n",
        "    self.__a = a\n",
        "    self.__b = b\n",
        "\n",
        "  def add(self):\n",
        "    return self.__a + self.__b\n",
        "  def sub(self):\n",
        "    return self.__a - self.__b\n",
        "foo_object = foo(3,4)\n",
        "\n",
        "print(foo_object.add()) #adding a and b\n",
        "print(foo_object.sub()) #subtracting a and b\n",
        "\n",
        "foo_object.__b = 5\n",
        "foo_object.__a = 7\n",
        "\n",
        "print(foo_object.add())\n",
        "print(foo_object.sub())"
      ],
      "metadata": {
        "colab": {
          "base_uri": "https://localhost:8080/"
        },
        "id": "kwmi6AtBc3rR",
        "outputId": "6e8f2d92-14bc-442f-c386-ee628504bf5e"
      },
      "execution_count": 2,
      "outputs": [
        {
          "output_type": "stream",
          "name": "stdout",
          "text": [
            "7\n",
            "-1\n",
            "7\n",
            "-1\n"
          ]
        }
      ]
    },
    {
      "cell_type": "markdown",
      "source": [
        "Inheritance"
      ],
      "metadata": {
        "id": "NiD_jc7hdbeh"
      }
    },
    {
      "cell_type": "code",
      "source": [
        "class Person:\n",
        "  def __init__(self, firstname, surname):\n",
        "    self.firstname = firstname\n",
        "    self.surname = surname\n",
        "\n",
        "  def printname(self):\n",
        "    print(self.firstname, self.surname)\n",
        "\n",
        "person = Person(\"Keanu\", \"Argota\")\n",
        "person.printname()\n",
        "\n",
        "class Student(Person):\n",
        "  pass\n",
        "\n",
        "person = Student(\"Kathleen\", \"Zamora\")\n",
        "person.printname()\n"
      ],
      "metadata": {
        "colab": {
          "base_uri": "https://localhost:8080/"
        },
        "id": "_3oy4xjiddwJ",
        "outputId": "0d4093c9-9f0e-424c-9d4c-559e62818a64"
      },
      "execution_count": 3,
      "outputs": [
        {
          "output_type": "stream",
          "name": "stdout",
          "text": [
            "Keanu Argota\n",
            "Kathleen Zamora\n"
          ]
        }
      ]
    },
    {
      "cell_type": "markdown",
      "source": [
        "Polymorphism"
      ],
      "metadata": {
        "id": "6PXl4tdHgTap"
      }
    },
    {
      "cell_type": "code",
      "source": [
        "class RegularPolygon:\n",
        "  def __init__(self, side):\n",
        "    self.side = side\n",
        "class Square(RegularPolygon):\n",
        "  def area(self):\n",
        "    return self.side * self.side\n",
        "class EquilateralTriangle(RegularPolygon):\n",
        "  def area(self):\n",
        "    return self.side * self.side * 0.433\n",
        "\n",
        "x = Square(4)\n",
        "y = EquilateralTriangle(3)\n",
        "\n",
        "print(x.area())\n",
        "print(y.area())"
      ],
      "metadata": {
        "colab": {
          "base_uri": "https://localhost:8080/"
        },
        "id": "TdlKV-oEgZQg",
        "outputId": "8b4a8cc2-8bbc-4337-80ad-701c943a7fbc"
      },
      "execution_count": 4,
      "outputs": [
        {
          "output_type": "stream",
          "name": "stdout",
          "text": [
            "16\n",
            "3.897\n"
          ]
        }
      ]
    },
    {
      "cell_type": "markdown",
      "source": [
        "* Create a Python program that displays the name of three students (Student 1, Student 2, and Student 3) and their term grades \n",
        "* Create a class name Person and attributes - std1, std2, std3, pre, mid, fin\n",
        "* Compute the average of each term grade using Grade()method \n",
        "* Infomation about student's grades must be hidden from others"
      ],
      "metadata": {
        "id": "yBcur_YqpFvL"
      }
    },
    {
      "cell_type": "code",
      "source": [
        "class Person:\n",
        "  def __init__(self, name, pre, mid, fin):\n",
        "    self.name = name\n",
        "    self.pre = pre*.30\n",
        "    self.mid = mid*.30\n",
        "    self.fin = fin*.40\n",
        "  def Grade(self):\n",
        "    return print (\"You are\", self.name, \"With a Semestral Grade of\", self.pre + self.mid + self.fin)\n",
        "\n",
        "  \n",
        "std1 = Person (\"Ken\", 89, 91, 93)\n",
        "std2 = Person (\"Rei\", 92, 94, 95)\n",
        "std3 = Person(\"Jedrick\", 93, 89, 91)\n",
        "\n",
        "x = input (str(\"Choose Student's Grades you wish to view (Student 1, Student 2, Student 3): \"))\n",
        "\n",
        "if x == \"Student 1\":\n",
        "  std1. Grade()\n",
        "else:\n",
        "  if x == \"Student 2\":\n",
        "    std2.Grade()\n",
        "  else:\n",
        "    if x == \"Student 3\":\n",
        "      std3.Grade()\n",
        "    else:\n",
        "      print(\"Error! Inavalid input... Please try again.\")"
      ],
      "metadata": {
        "colab": {
          "base_uri": "https://localhost:8080/"
        },
        "id": "enrcGajbPVFw",
        "outputId": "6e44a8a8-9672-4dd5-800a-c88f687840e7"
      },
      "execution_count": 5,
      "outputs": [
        {
          "output_type": "stream",
          "name": "stdout",
          "text": [
            "Choose Student's Grades you wish to view (Student 1, Student 2, Student 3): Student 1\n",
            "You are Ken With a Semestral Grade of 91.2\n"
          ]
        }
      ]
    }
  ]
}