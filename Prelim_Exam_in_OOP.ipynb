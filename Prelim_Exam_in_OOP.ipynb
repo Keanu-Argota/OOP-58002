{
  "nbformat": 4,
  "nbformat_minor": 0,
  "metadata": {
    "colab": {
      "name": "Prelim Exam in OOP.ipynb",
      "provenance": [],
      "authorship_tag": "ABX9TyMYCojfhCXFd84XYBheghKx",
      "include_colab_link": true
    },
    "kernelspec": {
      "name": "python3",
      "display_name": "Python 3"
    },
    "language_info": {
      "name": "python"
    }
  },
  "cells": [
    {
      "cell_type": "markdown",
      "metadata": {
        "id": "view-in-github",
        "colab_type": "text"
      },
      "source": [
        "<a href=\"https://colab.research.google.com/github/KenseiXD/OOP-58002/blob/main/Prelim_Exam_in_OOP.ipynb\" target=\"_parent\"><img src=\"https://colab.research.google.com/assets/colab-badge.svg\" alt=\"Open In Colab\"/></a>"
      ]
    },
    {
      "cell_type": "markdown",
      "source": [
        "Prelim Exam in OOP"
      ],
      "metadata": {
        "id": "4A8oci-WE5OV"
      }
    },
    {
      "cell_type": "code",
      "source": [
        "class Person:\n",
        "  def __init__(self, student, age, number, school, course):\n",
        "    self.student = student\n",
        "    self.age = age\n",
        "    self.number = number\n",
        "    self.school = school\n",
        "    self.course = course\n",
        "  def myFunction(self):\n",
        "    print(\"Hello! I am\", self.student, \"I am\", self.age) \n",
        "    print(\"and my student number is\", self.number)\n",
        "    print(\"I'm studying BS Computer Engineering at\", self.school)\n",
        "    print(\"and my course is\", self.course)\n",
        "    \n",
        "\n",
        "p1 = Person(\"Argota, Keanu B.\", 18, 202111899, \"Adamson University\", \"Computer Engineering (CPE)\")\n",
        "p1.myFunction()"
      ],
      "metadata": {
        "colab": {
          "base_uri": "https://localhost:8080/"
        },
        "id": "MHiJBElPFk_P",
        "outputId": "eb0d9bde-0b5f-4f93-87df-5fe7ef20d216"
      },
      "execution_count": 6,
      "outputs": [
        {
          "output_type": "stream",
          "name": "stdout",
          "text": [
            "Hello! I am Argota, Keanu B. I am 18\n",
            "and my student number is 202111899\n",
            "I'm studying BS Computer Engineering at Adamson University\n",
            "and my course is Computer Engineering (CPE)\n"
          ]
        }
      ]
    }
  ]
}