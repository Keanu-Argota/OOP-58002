{
  "nbformat": 4,
  "nbformat_minor": 0,
  "metadata": {
    "colab": {
      "name": "Prelim Exam in OOP.ipynb",
      "provenance": [],
      "authorship_tag": "ABX9TyPBHaYr71qvyTjOzrR3iLu+",
      "include_colab_link": true
    },
    "kernelspec": {
      "name": "python3",
      "display_name": "Python 3"
    },
    "language_info": {
      "name": "python"
    }
  },
  "cells": [
    {
      "cell_type": "markdown",
      "metadata": {
        "id": "view-in-github",
        "colab_type": "text"
      },
      "source": [
        "<a href=\"https://colab.research.google.com/github/KenseiXD/OOP-58002/blob/main/Prelim_Exam_in_OOP.ipynb\" target=\"_parent\"><img src=\"https://colab.research.google.com/assets/colab-badge.svg\" alt=\"Open In Colab\"/></a>"
      ]
    },
    {
      "cell_type": "markdown",
      "source": [
        "Prelim Exam in OOP"
      ],
      "metadata": {
        "id": "4A8oci-WE5OV"
      }
    },
    {
      "cell_type": "code",
      "source": [
        "class Person:\n",
        "  def __init__(self, student, number, school, course):\n",
        "    self.student = student\n",
        "    self.number = number\n",
        "    self.school = school\n",
        "    self.course = course\n",
        "  def myFunction(self):\n",
        "    print(\"Hello! I am\", self.student) \n",
        "    print(\"and my student number is\", self.number)\n",
        "    print(\"I'm studying BS Computer Engineering at\", self.school)\n",
        "    print(\"and my course is\", self.course)\n",
        "    \n",
        "\n",
        "p1 = Person(\"Argota, Keanu B.\", 202111899, \"Adamson University\", \"Computer Engineering (CPE)\")\n",
        "p1.myFunction()"
      ],
      "metadata": {
        "colab": {
          "base_uri": "https://localhost:8080/"
        },
        "id": "MHiJBElPFk_P",
        "outputId": "9281b89b-8a59-465c-8628-432bb307598f"
      },
      "execution_count": 2,
      "outputs": [
        {
          "output_type": "stream",
          "name": "stdout",
          "text": [
            "Hello! I am Argota, Keanu B.\n",
            "and my student number is 202111899\n",
            "I'm studying BS Computer Engineering at Adamson University\n",
            "and my course is Computer Engineering (CPE)\n"
          ]
        }
      ]
    }
  ]
}