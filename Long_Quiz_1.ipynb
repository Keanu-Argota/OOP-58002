{
  "nbformat": 4,
  "nbformat_minor": 0,
  "metadata": {
    "colab": {
      "name": "Long Quiz 1.ipynb",
      "provenance": [],
      "authorship_tag": "ABX9TyN33xVCCY1yGr4OpWmrBSaV",
      "include_colab_link": true
    },
    "kernelspec": {
      "name": "python3",
      "display_name": "Python 3"
    },
    "language_info": {
      "name": "python"
    }
  },
  "cells": [
    {
      "cell_type": "markdown",
      "metadata": {
        "id": "view-in-github",
        "colab_type": "text"
      },
      "source": [
        "<a href=\"https://colab.research.google.com/github/KenseiXD/OOP-58002/blob/main/Long_Quiz_1.ipynb\" target=\"_parent\"><img src=\"https://colab.research.google.com/assets/colab-badge.svg\" alt=\"Open In Colab\"/></a>"
      ]
    },
    {
      "cell_type": "markdown",
      "source": [
        "Long Quiz 1"
      ],
      "metadata": {
        "id": "Y-LisaHBh29D"
      }
    },
    {
      "cell_type": "code",
      "source": [
        "class Temperature:\n",
        "  def _init_ (temp):\n",
        "    self.temp = temp\n",
        "  def Celsius(c):\n",
        "    return(temp * 9/5) + 32\n",
        "\n",
        "  def Fahrenheit(f):\n",
        "    return(temp - 32) * 5/9 \n",
        "\n",
        "  def display(self):\n",
        "    if convert == 'c':\n",
        "      print(temp, \"Celsius is\" , self.Celsius(), \"Fahrenheit\")\n",
        "    elif convert == 'f':\n",
        "      print(temp, \"Fahrenheit equals\", self.Fahrenheit(), \"Celsius\")\n",
        "    elif convert == 'C':\n",
        "      print(temp, \"Celsius is\", self.Celsius(), \"Fahrenheit\")\n",
        "    elif convert == 'F':\n",
        "      print(temp, \"Fahrenheit equals\", self.Fahrenheit(), \"Celsius\")\n",
        "    else:\n",
        "      print(\"Error! Invalid Input Please try again.\")\n",
        "\n",
        "\n",
        "temp = float(input(\"Enter Temperature:\"))\n",
        "convert=input(\"What do you want to convert Celsius or Farenheit (C/F): \")\n",
        "View = Temperature()\n",
        "View.display()"
      ],
      "metadata": {
        "colab": {
          "base_uri": "https://localhost:8080/"
        },
        "id": "JkT42NL5UNzT",
        "outputId": "7dd2eec6-e79d-4986-c478-64b48dbe3f02"
      },
      "execution_count": 64,
      "outputs": [
        {
          "output_type": "stream",
          "name": "stdout",
          "text": [
            "Enter Temperature:37\n",
            "What do you want to convert Celsius or Farenheit (C/F): C\n",
            "37.0 Celsius is 98.6 Fahrenheit\n"
          ]
        }
      ]
    }
  ]
}